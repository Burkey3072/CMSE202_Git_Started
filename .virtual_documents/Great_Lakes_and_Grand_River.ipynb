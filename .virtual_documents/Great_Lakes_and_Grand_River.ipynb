





# Bring in NumPy, Pandas, and Matplotlib, should be all you need to plot. 
# IF you need more make sure to notify your group.
import numpy as np
import pandas as pd
import matplotlib.pyplot as plt
%matplotlib inline








# Insert Code Here
mhu = pd.read_csv("data/mhu.csv")
#mhu = mhu.iloc[1:]
mhu.head()
plt.plot(mhu['Michigan-Huron annual averages'], mhu['AnnAvg'])
plt.xlabel("Year")
plt.ylabel("Annual Average Rainfall In")





# Insert Code Here





# Insert Code Here





# Insert Code Here





# Insert Code Here





# Insert Code Here





# Insert Code Here





# Insert Code Here














#Importing Seaborn for regplot
import seaborn as sns

#loading in Data for Grand River from riverdata.com
import urllib.request
print('Beginning file download with urllib2...')
url = 'http://riverdata.com/grand.csv'
urllib.request.urlretrieve(url, './data/grand.csv')
grand = pd.read_csv("./data/grand.csv")

#Loading in Data for mhu.csv
mhu = pd.read_csv("./data/mhu.csv")
mhu = mhu[mhu["Michigan-Huron annual averages"] >= 1935]
grand = grand[grand["Calendar Year"] <= 2015]
grand = grand[grand["Calendar Year"] >= 1935]

# Setting Size of Figures
plt.figure(figsize=(7,10))

# Plotting Discharge versus time
plt.subplot(2,1,1)
plt.scatter(grand["Calendar Year"],grand["Discharge (ft^3/s)"])
plt.xlabel("Calendar Years")
plt.ylabel("Discharge (ft^3/s)")
plt.title("Grand River Discharge over Time")

#Plotting Grand River Discharge versus Lake Michigan/Huron Water Level (Normalized)
ax2 = plt.subplot(2,1,2)
sns.regplot(grand["Discharge (ft^3/s)"],mhu["AnnAvg"],ax=ax2)
plt.xlabel("Grand River Discharge (ft^3/s)")
plt.ylabel("Lake Michigan/Huron Water Level")
plt.title("Grand River Discharge vs Lake Michigan/Huron Water Level")
plt.tight_layout()



