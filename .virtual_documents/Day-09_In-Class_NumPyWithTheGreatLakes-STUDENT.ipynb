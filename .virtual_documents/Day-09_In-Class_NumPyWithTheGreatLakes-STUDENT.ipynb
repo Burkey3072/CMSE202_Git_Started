














# Although there are some exceptions, it is generally a good idea to keep all of your
# imports in one place so that you can easily manage them. Doing so also makes it easy
# to copy all of them at once and paste them into a new notebook you are starting.

# Bring in NumPy and Matplotlib
import numpy as np
import matplotlib.pyplot as plt








# use NumPy to read data from a csv file
# second, better example of loadtxt()
mhu_date, mhu_level = np.loadtxt("lake_michigan_huron.csv", usecols = [0,1], unpack=True, delimiter=',') # example for the lake_michigan_huron.csv file





mhu_date











# Read in data from the remaining files.
erie_date, erie_level = np.loadtxt("lake_erie.csv", usecols = [0,1], unpack=True, delimiter=',') 
ontario_date, ontario_level = np.loadtxt("lake_ontario.csv", usecols = [0,1], unpack=True, delimiter=',') 
sup_date, sup_level = np.loadtxt("lake_superior.csv", usecols = [0,1], unpack=True, delimiter=',') 




# Print some of the values coming in from the files to ensure they look fine.
print(erie_date)
print(erie_level)





type(erie_level)














# Put your code here
print('mean:',np.mean(erie_level),'median:',np.median(erie_level),'std:',np.std(erie_level))





# put your code here
print('erie sd',np.std(erie_level))
print('superior sd',np.std(sup_level))
print('ontario sd',np.std(ontario_level))
print('mi/hur sd', np.std(mhu_level))





# plot the water levels here

lakelist = ['Erie','Superior','Mi&Hur','Ontario']
lakelevellist= [erie_level,sup_level,mhu_level,ontario_level]
lakeyearlist=[erie_date,sup_date,mhu_date,ontario_date]
colorlist=['red','green','blue','orange','yellow','purple','indigo','pink','brown','black',]

for i in range(len(lakelevellist)):
    plt.subplot(4,1,i+1)   #can be commented out to make 1 graph and uncomment plt legend
    plt.scatter(lakeyearlist[i],lakelevellist[i],s=1,color=colorlist[i],label=lakelist[i])
    plt.xlabel(lakelist[i]+' year')
    plt.ylabel(lakelist[i]+' water level')
    plt.title(lakelist[i])
    #plt.legend()
plt.tight_layout()





# Put your code here to make each plot separately. You might need to create multiple notebook cells or use "subplot"
# Make sure they are professionaly constructed using all of the options above.
for i in range(len(lakelevellist)):
    plt.subplot(4,1,i+1)   #can be commented out to make 1 graph and uncomment plt legend
    plt.scatter(lakeyearlist[i],lakelevellist[i],s=1,color=colorlist[i],label=lakelist[i])
    plt.xlabel(lakelist[i]+' year')
    plt.ylabel(lakelist[i]+' water level')
    plt.title(lakelist[i])
    #plt.legend()
plt.tight_layout()


# Make another plot here with all the data in the same plot and include a legend
# It still might not be super useful, but at least with a legend you can tell which line is which!
for i in range(len(lakelevellist)):
    #plt.subplot(4,1,i+1)   #can be commented out to make 1 graph and uncomment plt legend
    plt.scatter(lakeyearlist[i],lakelevellist[i],s=1,color=colorlist[i],label=lakelist[i])
    plt.xlabel('year')
    plt.ylabel('water level')
    plt.title('Lake Levels')
    plt.legend()
plt.tight_layout()











# add your plots here (with labels, titles, legend, grid)
# what line type should you use? what are the best markers to use?

for i in range(-1,3):
    plt.subplot(3,3,i+2)
    plt.scatter(lakelevellist[i],lakelevellist[i+1],label=lakelist[i]+" "+lakelist[i+1],color=colorlist[i+1],s=3)
    plt.xlabel(lakelist[i])
    plt.ylabel(lakelist[i+1])
    plt.title(lakelist[i]+' & '+lakelist[i+1])
    
for i in range(-1,1):
    plt.subplot(3,3,i+6)
    plt.scatter(lakelevellist[i],lakelevellist[i+2],label=lakelist[i]+" "+lakelist[i+2],color=colorlist[i+5],s=3)
    plt.xlabel(lakelist[i])
    plt.ylabel(lakelist[i+2])
    plt.title(lakelist[i]+' & '+lakelist[i+2])
    
plt.tight_layout()
plt.savefig('burke.png')











# put your code here
for i in range(-1,3):
    r= (np.corrcoef(lakelevellist[i],lakelevellist[i+1]))
    print(r[1,0],lakelist[i],lakelist[i+1])
for i in range(-1,1):
    r= (np.corrcoef(lakelevellist[i],lakelevellist[i+2]))
    print(r[1,0],lakelist[i],lakelist[i+2])






def r_corr_response(array1,array2,array1name='array1',array2name='array2',r_correlation_list=[.9,-.9,.75,-.75,.5,-.5,.25,-.25], r_strength_list=['direct positive correlation','direct inverse correlation','strong positive correlation','strong inverse correlation','some positive correlation','some inverse correlation','little positive correlation','little negative correlation','no correlation']):
    import numpy as np
    import matplotlib.pyplot as plt
    rarray = (np.corrcoef(array1,array2))
    
    plt.scatter(array1,array2,label='array1'+' '+'array2',color='red',s=3)
    plt.xlabel(array1name)
    plt.ylabel(array2name)
    plt.title(array1name+'&'+array2name)
    plt.tight_layout()
    
    r=rarray[1,0]
    for x in range(1):
        if r > r_correlation_list[x]:
            p = r_strength_list[x]
        elif r <  r_correlation_list[x+1]:
            p=r_strength_list[x+1]
        elif r > r_correlation_list[x+2]:
            p = r_strength_list[x+2]
        elif r < r_correlation_list[x+3]:
            p = r_strength_list[x+3]
        elif r > r_correlation_list[x+4]:
            p = r_strength_list[x+4]
        elif r < r_correlation_list[x+5]:
            p = r_strength_list[x+5]
        elif r > r_correlation_list[x+6]:
            p = r_strength_list[x+6] 
        elif r < r_correlation_list[x+7]:
            p = r_strength_list[x+7]
        elif r <= r_correlation_list[-2] and r >= r_correlation_list[-1]:
            p = r_strength_list[-1]
    return [r,p]

lakesr = r_corr_response(lakelevellist[0],lakelevellist[1])

for i in range(-1,3):
    lakes = lakelist[i]+" "+lakelist[i+1]
    plt.subplot(3,2,i+2)
    laker = r_corr_response(lakelevellist[i],lakelevellist[i+1],lakelist[i],lakelist[i+1])
    print(laker,lakes)
for i in range(-1,1):
    lakes = lakelist[i]+" "+lakelist[i+2]
    plt.subplot(3,2,i+6)
    laker = r_corr_response(lakelevellist[i],lakelevellist[i+2],lakelist[i],lakelist[i+2])
    print(laker,lakes)
    
    








from IPython.display import HTML
HTML(
"""
<iframe 
	src="https://cmse.msu.edu/cmse201-ic-survey" 
	width="800px" 
	height="600px" 
	frameborder="0" 
	marginheight="0" 
	marginwidth="0">
	Loading...
</iframe>
"""
)









